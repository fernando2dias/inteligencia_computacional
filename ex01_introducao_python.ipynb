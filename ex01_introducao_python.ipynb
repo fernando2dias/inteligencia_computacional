{
  "cells": [
    {
      "cell_type": "markdown",
      "metadata": {
        "id": "view-in-github",
        "colab_type": "text"
      },
      "source": [
        "<a href=\"https://colab.research.google.com/github/fernando2dias/inteligencia_computacional/blob/main/ex01_introducao_python.ipynb\" target=\"_parent\"><img src=\"https://colab.research.google.com/assets/colab-badge.svg\" alt=\"Open In Colab\"/></a>"
      ]
    },
    {
      "cell_type": "markdown",
      "metadata": {
        "id": "TRrKLgidUVQA"
      },
      "source": [
        "# <center>Centro Universitário Facens<br/></center>\n",
        "<br/>\n",
        "<font size=\"4\"><center><b>Disciplina: Inteligência Artificial</b></center></font>\n",
        "  \n",
        "<font size=\"3\"><center>Prof. Renato M. Silva</center></font>\n",
        "<br/>"
      ]
    },
    {
      "cell_type": "markdown",
      "metadata": {
        "id": "AVOioXHRUVQS"
      },
      "source": [
        "# <center>Exercício - Introdução ao Python</center>\n",
        "\n",
        "Neste exercício, são apresentados alguns recursos básicos do Python que geralmente são necessários nos projetos de Ciência de Dados. "
      ]
    },
    {
      "cell_type": "markdown",
      "metadata": {
        "id": "GL3z_SMjUVQV"
      },
      "source": [
        "# Numpy - vetores e matrizes\n",
        "\n",
        "A biblioteca `numpy` do python permite a criação, manipulações e operações matemáticas de vetores e matrizes.\n",
        "\n",
        "Primeiro, você deve importar a biblioteca, antes de usar suas funções."
      ]
    },
    {
      "cell_type": "code",
      "execution_count": 48,
      "metadata": {
        "scrolled": true,
        "id": "cCu4-mmOUVQX"
      },
      "outputs": [],
      "source": [
        "# -*- coding: utf-8 -*-\n",
        "\n",
        "import numpy as np # importa a biblioteca usada para trabalhar com vetores e matrizes."
      ]
    },
    {
      "cell_type": "markdown",
      "metadata": {
        "id": "r7RS_i0cUVQc"
      },
      "source": [
        "## Criando vetores e matrizes\n",
        "\n",
        "Criando um vetor com os seguintes valores $[1,2,3,4,5]$."
      ]
    },
    {
      "cell_type": "code",
      "execution_count": 49,
      "metadata": {
        "colab": {
          "base_uri": "https://localhost:8080/",
          "height": 86
        },
        "id": "7Xc45fVLUVQe",
        "outputId": "2ef4323e-f70d-453c-bc60-d4079531e8a6"
      },
      "outputs": [
        {
          "output_type": "stream",
          "name": "stdout",
          "text": [
            "[1 2 3 4 5]\n"
          ]
        },
        {
          "output_type": "display_data",
          "data": {
            "text/plain": [
              "array([1, 2, 3, 4, 5])"
            ]
          },
          "metadata": {}
        },
        {
          "output_type": "stream",
          "name": "stdout",
          "text": [
            "[6 7 8 9 0]\n"
          ]
        },
        {
          "output_type": "display_data",
          "data": {
            "text/plain": [
              "array([6, 7, 8, 9, 0])"
            ]
          },
          "metadata": {}
        }
      ],
      "source": [
        "# criando um vetor\n",
        "vet = np.array( [1,2,3,4,5] )\n",
        "vet2 = np.array( [6,7,8,9,0] )\n",
        "\n",
        "# você pode imprimir usando a função print ou a função display\n",
        "print(vet)\n",
        "display(vet)\n",
        "\n",
        "print(vet2)\n",
        "display(vet2)\n",
        "\n"
      ]
    },
    {
      "cell_type": "markdown",
      "metadata": {
        "id": "8Edk1_BFUVQf"
      },
      "source": [
        "Podemos criar um vetor de elementos sequenciais usando a função `arange` do `numpy`. Por exemplo, vamos criar um vetor com valores de 0 até 7."
      ]
    },
    {
      "cell_type": "code",
      "execution_count": 50,
      "metadata": {
        "colab": {
          "base_uri": "https://localhost:8080/",
          "height": 52
        },
        "id": "N3Mfhx0RUVQg",
        "outputId": "2156e50e-6a07-4d3f-b12c-d89287d2a4c6"
      },
      "outputs": [
        {
          "output_type": "display_data",
          "data": {
            "text/plain": [
              "array([0, 1, 2, 3, 4, 5, 6, 7])"
            ]
          },
          "metadata": {}
        },
        {
          "output_type": "display_data",
          "data": {
            "text/plain": [
              "array([ 0,  1,  2,  3,  4,  5,  6,  7,  8,  9, 10])"
            ]
          },
          "metadata": {}
        }
      ],
      "source": [
        "vet_seq1 = np.arange(8)\n",
        "vet_seq2 = np.arange(11)\n",
        "\n",
        "display(vet_seq1)\n",
        "display(vet_seq2)"
      ]
    },
    {
      "cell_type": "markdown",
      "metadata": {
        "id": "J0yKjdDNUVQi"
      },
      "source": [
        "Agora, vamos criar um vetor de elementos sequenciais de 5 até 10."
      ]
    },
    {
      "cell_type": "code",
      "execution_count": 51,
      "metadata": {
        "colab": {
          "base_uri": "https://localhost:8080/",
          "height": 52
        },
        "id": "l4gRjSKzUVQj",
        "outputId": "a9c065ea-5a01-4f37-9d0e-b1bab5be020f"
      },
      "outputs": [
        {
          "output_type": "display_data",
          "data": {
            "text/plain": [
              "array([ 5,  6,  7,  8,  9, 10])"
            ]
          },
          "metadata": {}
        },
        {
          "output_type": "display_data",
          "data": {
            "text/plain": [
              "array([10, 11, 12, 13, 14, 15, 16, 17, 18, 19])"
            ]
          },
          "metadata": {}
        }
      ],
      "source": [
        "vet_seq1 = np.arange(5,11)\n",
        "vet_seq2 = np.arange(10,20)\n",
        "\n",
        "display(vet_seq1)\n",
        "display(vet_seq2)\n"
      ]
    },
    {
      "cell_type": "markdown",
      "metadata": {
        "id": "gW4MjiPeUVQk"
      },
      "source": [
        "Nós podemos também criar um vetor sequencial variando de 2 em 2 ou com outros intervalos."
      ]
    },
    {
      "cell_type": "code",
      "execution_count": 52,
      "metadata": {
        "colab": {
          "base_uri": "https://localhost:8080/"
        },
        "id": "Xl29EwtGUVQl",
        "outputId": "0d636dea-6ead-491a-e47a-2cb66665fb32"
      },
      "outputs": [
        {
          "output_type": "stream",
          "name": "stdout",
          "text": [
            "Sequência de 5 até 20, variando de 2 em 2: [ 5  7  9 11 13 15 17 19]\n",
            "Sequência de 5 até 20, variando de 5 em 5: [ 5 10 15]\n",
            "Sequência de 5 até 20, variando de 4 em 4: [ 5  9 13 17]\n"
          ]
        }
      ],
      "source": [
        "vet_seq1 = np.arange(5,20,2)\n",
        "print('Sequência de 5 até 20, variando de 2 em 2:', vet_seq1)\n",
        "\n",
        "vet_seq1 = np.arange(5,20,5)\n",
        "print('Sequência de 5 até 20, variando de 5 em 5:', vet_seq1)\n",
        "\n",
        "vet_seq1 = np.arange(5,20,4)\n",
        "print('Sequência de 5 até 20, variando de 4 em 4:', vet_seq1)"
      ]
    },
    {
      "cell_type": "markdown",
      "metadata": {
        "id": "Rc443oNnUVQm"
      },
      "source": [
        "Vetores sequenciais podem ser usados em laços de repetição. Por exemplo, vamos imprimir todos os valores entre 2 e 10 usando um laço de repetição `for`."
      ]
    },
    {
      "cell_type": "code",
      "execution_count": 53,
      "metadata": {
        "id": "b9Q8BzW1UVQo",
        "colab": {
          "base_uri": "https://localhost:8080/"
        },
        "outputId": "db4d1637-4082-460d-a709-ba07b1626642"
      },
      "outputs": [
        {
          "output_type": "stream",
          "name": "stdout",
          "text": [
            "2\n",
            "3\n",
            "4\n",
            "5\n",
            "6\n",
            "7\n",
            "8\n",
            "9\n",
            "10\n"
          ]
        }
      ],
      "source": [
        "for i in np.arange(2,11):\n",
        "    print('%d' %i)"
      ]
    },
    {
      "cell_type": "markdown",
      "metadata": {
        "id": "zOg_8OiyUVQp"
      },
      "source": [
        "Nós também podemos criar um vetor com $n$-zeros ou $n$-uns."
      ]
    },
    {
      "cell_type": "code",
      "execution_count": 54,
      "metadata": {
        "id": "82rSponjUVQq",
        "colab": {
          "base_uri": "https://localhost:8080/"
        },
        "outputId": "33fa9e04-c14d-49b5-bfa9-34267d9282d5"
      },
      "outputs": [
        {
          "output_type": "stream",
          "name": "stdout",
          "text": [
            "Vetor de zeros:  [0. 0. 0. 0. 0. 0. 0. 0. 0. 0.]\n",
            "\n",
            "Vetor de uns:  [1. 1. 1. 1. 1. 1. 1. 1. 1. 1.]\n"
          ]
        }
      ],
      "source": [
        "# cria um vetor com 10-zeros\n",
        "vet_zeros = np.zeros(10)\n",
        "\n",
        "# cria um vetor com 10-uns\n",
        "vet_ones = np.ones(10)\n",
        "\n",
        "\n",
        "print('Vetor de zeros: ', vet_zeros)\n",
        "print('\\nVetor de uns: ', vet_ones)\n"
      ]
    },
    {
      "cell_type": "markdown",
      "metadata": {
        "id": "z89slEQjUVQr"
      },
      "source": [
        "Criando uma matriz com os valores: $\n",
        "  \\begin{bmatrix}\n",
        "    1 & 2 & 3 & 4 & 5 \\\\\n",
        "    6 & 7 & 8 & 9 & 10\n",
        "  \\end{bmatrix}$"
      ]
    },
    {
      "cell_type": "code",
      "execution_count": 55,
      "metadata": {
        "colab": {
          "base_uri": "https://localhost:8080/",
          "height": 52
        },
        "id": "3OZXLRmeUVQr",
        "outputId": "c77a651d-2507-421c-b372-155e978605c2"
      },
      "outputs": [
        {
          "output_type": "display_data",
          "data": {
            "text/plain": [
              "array([[ 1,  2,  3,  4,  5],\n",
              "       [ 6,  7,  8,  9, 10]])"
            ]
          },
          "metadata": {}
        }
      ],
      "source": [
        "# cria uma matriz\n",
        "A = np.array( [[1,2,3,4,5],[6,7,8,9,10]] )\n",
        "\n",
        "display(A)"
      ]
    },
    {
      "cell_type": "markdown",
      "metadata": {
        "id": "Y6nOFmYVUVQs"
      },
      "source": [
        "Nós também podemos criar uma matriz de valores zero e uma matriz de valores um:"
      ]
    },
    {
      "cell_type": "code",
      "execution_count": 56,
      "metadata": {
        "colab": {
          "base_uri": "https://localhost:8080/",
          "height": 347
        },
        "id": "-az72MeEUVQt",
        "outputId": "dab6bf8b-3dfa-452b-d3dd-3c8670a62743"
      },
      "outputs": [
        {
          "output_type": "stream",
          "name": "stdout",
          "text": [
            "Vetor de zeros: \n"
          ]
        },
        {
          "output_type": "display_data",
          "data": {
            "text/plain": [
              "array([[0., 0., 0., 0., 0., 0., 0., 0., 0., 0.],\n",
              "       [0., 0., 0., 0., 0., 0., 0., 0., 0., 0.]])"
            ]
          },
          "metadata": {}
        },
        {
          "output_type": "stream",
          "name": "stdout",
          "text": [
            "\n",
            "Vetor de valores um: \n"
          ]
        },
        {
          "output_type": "display_data",
          "data": {
            "text/plain": [
              "array([[1., 1., 1., 1., 1., 1., 1., 1., 1., 1.],\n",
              "       [1., 1., 1., 1., 1., 1., 1., 1., 1., 1.]])"
            ]
          },
          "metadata": {}
        },
        {
          "output_type": "stream",
          "name": "stdout",
          "text": [
            "\n",
            "Matriz de teste:\n"
          ]
        },
        {
          "output_type": "display_data",
          "data": {
            "text/plain": [
              "array([[0., 0., 0., 0., 0., 0., 0., 0., 0., 0.],\n",
              "       [0., 0., 0., 0., 0., 0., 0., 0., 0., 0.],\n",
              "       [0., 0., 0., 0., 0., 0., 0., 0., 0., 0.],\n",
              "       [0., 0., 0., 0., 0., 0., 0., 0., 0., 0.],\n",
              "       [0., 0., 0., 0., 0., 0., 0., 0., 0., 0.],\n",
              "       [0., 0., 0., 0., 0., 0., 0., 0., 0., 0.],\n",
              "       [0., 0., 0., 0., 0., 0., 0., 0., 0., 0.],\n",
              "       [0., 0., 0., 0., 0., 0., 0., 0., 0., 0.],\n",
              "       [0., 0., 0., 0., 0., 0., 0., 0., 0., 0.],\n",
              "       [0., 0., 0., 0., 0., 0., 0., 0., 0., 0.]])"
            ]
          },
          "metadata": {}
        }
      ],
      "source": [
        "# cria um array de valores zeros com dimensão 2x10\n",
        "array_zeros = np.zeros( [2,10] )\n",
        "matriz_test = np.zeros( [10, 10])\n",
        "\n",
        "# cria um array de valores um com dimensão 2x10\n",
        "array_ones = np.ones( [2,10] )\n",
        "\n",
        "print('Vetor de zeros: ')\n",
        "display(array_zeros)\n",
        "\n",
        "print('\\nVetor de valores um: ')\n",
        "display(array_ones)\n",
        "\n",
        "print('\\nMatriz de teste:')\n",
        "display(matriz_test)"
      ]
    },
    {
      "cell_type": "markdown",
      "metadata": {
        "id": "By1wgH5XUVQt"
      },
      "source": [
        "## Selecionando elementos de vetores e matrizes\n",
        "\n",
        "Suponha que temos um vetor $[a,b,c,d,e,f,g,h,i]$. Nós podemos selecionar vários subconjuntos de elementos desse vetor, conforme mostrado abaixo. **Observação**: no python, o índice começa a contar em 0."
      ]
    },
    {
      "cell_type": "code",
      "execution_count": 57,
      "metadata": {
        "colab": {
          "base_uri": "https://localhost:8080/"
        },
        "id": "suZQzWhGUVQu",
        "outputId": "0c1401a8-6262-4ad2-c097-9bbc41b43092"
      },
      "outputs": [
        {
          "output_type": "stream",
          "name": "stdout",
          "text": [
            "Três primeiros elementos de vetA: \n",
            "['a' 'b' 'c']\n",
            "\n",
            "todos os valores após o Quinto elementos de vetA: \n",
            "['f' 'g' 'h' 'i']\n",
            "\n",
            "Os três ultimos valores de vetA: \n",
            "['g' 'h' 'i']\n",
            "\n",
            "Os valores de vetA entre o 5 elemento até o penúltimo elemento: \n",
            "['e' 'f' 'g'] ou ['e' 'f' 'g']\n"
          ]
        }
      ],
      "source": [
        "# criando um vetor\n",
        "vetA = np.array(['a','b','c','d','e','f','g','h','i'])\n",
        "\n",
        "print('Três primeiros elementos de vetA: ')\n",
        "print( vetA[0:3] )\n",
        "\n",
        "print('\\ntodos os valores após o Quinto elementos de vetA: ')\n",
        "print( vetA[5:] )\n",
        "\n",
        "print('\\nOs três ultimos valores de vetA: ')\n",
        "print( vetA[-3:] )\n",
        "\n",
        "print('\\nOs valores de vetA entre o 5 elemento até o penúltimo elemento: ')\n",
        "print( vetA[4:-2], 'ou', vetA[4:7] )"
      ]
    },
    {
      "cell_type": "markdown",
      "metadata": {
        "id": "RG5y91fWUVQv"
      },
      "source": [
        "Suponha que temos um array: $\\begin{bmatrix}\n",
        "    1a & 1b & 1c & 1d & 1e & 1f & 1g & 1h & 1i \\\\\n",
        "    2a & 2b & 2c & 2d & 2e & 2f & 2g & 2h & 2i \\\\\n",
        "    3a & 3b & 3c & 3d & 3e & 3f & 3g & 3h & 3i \\\\\n",
        "    4a & 4b & 4c & 4d & 4e & 4f & 4g & 4h & 4i \\\\\n",
        "  \\end{bmatrix}$.\n",
        "\n",
        "Nós podemos selecionar vários subconjuntos de elementos dessa matriz, conforme mostrado abaixo."
      ]
    },
    {
      "cell_type": "code",
      "execution_count": null,
      "metadata": {
        "colab": {
          "base_uri": "https://localhost:8080/"
        },
        "id": "DgJUboiuUVQv",
        "outputId": "1e8fb694-2b55-455f-d23d-208316a1f0c5"
      },
      "outputs": [
        {
          "output_type": "stream",
          "name": "stdout",
          "text": [
            "Matriz inteira: \n",
            "[['1a' '1b' '1c' '1d' '1e' '1f' '1g' '1h' '1i']\n",
            " ['2a' '2b' '2c' '2d' '2e' '2f' '2g' '2h' '2i']\n",
            " ['3a' '3b' '3c' '3d' '3e' '3f' '3g' '3h' '3i']\n",
            " ['4a' '4b' '4c' '4d' '4e' '4f' '4g' '4h' '4i']]\n",
            "\n",
            "Todos os elementos da coluna 3: \n",
            "['1c' '2c' '3c' '4c']\n",
            "\n",
            "Todos os elementos da linha 2: \n",
            "[['2a' '2b' '2c' '2d' '2e' '2f' '2g' '2h' '2i']\n",
            " ['3a' '3b' '3c' '3d' '3e' '3f' '3g' '3h' '3i']\n",
            " ['4a' '4b' '4c' '4d' '4e' '4f' '4g' '4h' '4i']]\n",
            "\n",
            "Todos os elementos das 2 primeiras colunas: \n",
            "[['1a' '1b']\n",
            " ['2a' '2b']\n",
            " ['3a' '3b']\n",
            " ['4a' '4b']]\n",
            "\n",
            "Todos os elementos das 2 primeiras linhas: \n",
            "[['1a' '1b' '1c' '1d' '1e' '1f' '1g' '1h' '1i']\n",
            " ['2a' '2b' '2c' '2d' '2e' '2f' '2g' '2h' '2i']]\n",
            "\n",
            "Apenas os elementos das 2 primeiras linhas e das 2 primeiras colunas: \n",
            "[['1a' '1b']\n",
            " ['2a' '2b']]\n",
            "\n",
            "Apenas os elementos das 2 últimas linhas e das 4 últimas colunas: \n",
            "[['3f' '3g' '3h' '3i']\n",
            " ['4f' '4g' '4h' '4i']]\n",
            "\n",
            "Apenas os elementos das linhas 2 até 4 e das colunas 4 até 6: \n",
            "[['2d' '2e' '2f']\n",
            " ['3d' '3e' '3f']]\n"
          ]
        }
      ],
      "source": [
        "# criando uma matriz\n",
        "arrayA = np.array( [['1a','1b','1c','1d','1e','1f','1g','1h','1i'],\n",
        "                    ['2a','2b','2c','2d','2e','2f','2g','2h','2i'],\n",
        "                    ['3a','3b','3c','3d','3e','3f','3g','3h','3i'],\n",
        "                    ['4a','4b','4c','4d','4e','4f','4g', '4h','4i']])\n",
        "\n",
        "print('Matriz inteira: ')\n",
        "print( arrayA )\n",
        "\n",
        "print('\\nTodos os elementos da coluna 3: ')\n",
        "print( arrayA[:,2] )\n",
        "\n",
        "print('\\nTodos os elementos da linha 2: ')\n",
        "print( arrayA[1:,:] )\n",
        "\n",
        "print('\\nTodos os elementos das 2 primeiras colunas: ')\n",
        "print( arrayA[:,0:2] )\n",
        "\n",
        "print('\\nTodos os elementos das 2 primeiras linhas: ')\n",
        "print( arrayA[0:2,:] )\n",
        "\n",
        "print('\\nApenas os elementos das 2 primeiras linhas e das 2 primeiras colunas: ')\n",
        "print( arrayA[0:2,0:2] )\n",
        "\n",
        "print('\\nApenas os elementos das 2 últimas linhas e das 4 últimas colunas: ')\n",
        "print( arrayA[-2:,-4:] )\n",
        "\n",
        "print('\\nApenas os elementos das linhas 2 até 4 e das colunas 4 até 6: ')\n",
        "print( arrayA[1:3,3:6] )"
      ]
    },
    {
      "cell_type": "markdown",
      "metadata": {
        "id": "LZ4cryk5UVQw"
      },
      "source": [
        "## Operações básicas com vetores e matrizes\n",
        "\n",
        "Soma e subtração entre vetores."
      ]
    },
    {
      "cell_type": "code",
      "execution_count": 58,
      "metadata": {
        "id": "23Bzc4VzUVQw",
        "colab": {
          "base_uri": "https://localhost:8080/"
        },
        "outputId": "e3ef9ef8-467d-403d-a8e7-0a52ada1f295"
      },
      "outputs": [
        {
          "output_type": "stream",
          "name": "stdout",
          "text": [
            "A: [1 2 3]\n",
            "B: [4 5 6]\n",
            "\n",
            "A+B:  [5 7 9]\n",
            "A-B:  [-3 -3 -3]\n"
          ]
        }
      ],
      "source": [
        "A = np.array( [1,2,3] )\n",
        "B = np.array( [4,5,6] )\n",
        "print('A:', A);\n",
        "print('B:', B);\n",
        "\n",
        "print('\\nA+B: ', A+B )\n",
        "print('A-B: ', A-B )"
      ]
    },
    {
      "cell_type": "markdown",
      "metadata": {
        "id": "LKyaMthhUVQx"
      },
      "source": [
        "Soma e subtração entre matrizes."
      ]
    },
    {
      "cell_type": "code",
      "execution_count": 59,
      "metadata": {
        "id": "ieTeJId4UVQx",
        "colab": {
          "base_uri": "https://localhost:8080/",
          "height": 277
        },
        "outputId": "3cc54cd1-c034-42b3-ebd2-6ac1e8bfa8cd"
      },
      "outputs": [
        {
          "output_type": "stream",
          "name": "stdout",
          "text": [
            "X1: \n",
            " [[1 2 3]\n",
            " [4 5 6]]\n",
            "\n",
            "X2: \n",
            " [[4 5 6]\n",
            " [7 8 9]]\n",
            "\n",
            "X1+X2:\n"
          ]
        },
        {
          "output_type": "display_data",
          "data": {
            "text/plain": [
              "array([[ 5,  7,  9],\n",
              "       [11, 13, 15]])"
            ]
          },
          "metadata": {}
        },
        {
          "output_type": "stream",
          "name": "stdout",
          "text": [
            "\n",
            "X1-X2:\n"
          ]
        },
        {
          "output_type": "display_data",
          "data": {
            "text/plain": [
              "array([[-3, -3, -3],\n",
              "       [-3, -3, -3]])"
            ]
          },
          "metadata": {}
        }
      ],
      "source": [
        "X1 = np.array( [[1,2,3],\n",
        "                [4,5,6]] )\n",
        "\n",
        "X2 = np.array( [[4,5,6],\n",
        "                [7,8,9]])\n",
        "\n",
        "print('X1: \\n', X1);\n",
        "print('\\nX2: \\n', X2);\n",
        "\n",
        "print('\\nX1+X2:')\n",
        "display(X1+X2)\n",
        "\n",
        "print('\\nX1-X2:')\n",
        "display(X1-X2)"
      ]
    },
    {
      "cell_type": "markdown",
      "metadata": {
        "id": "52N4pUR8UVQy"
      },
      "source": [
        "Produto entre duas matrizes."
      ]
    },
    {
      "cell_type": "code",
      "execution_count": null,
      "metadata": {
        "id": "kILJOFy3UVQy",
        "colab": {
          "base_uri": "https://localhost:8080/",
          "height": 208
        },
        "outputId": "78066955-8030-478c-b292-d2da2c9f224a"
      },
      "outputs": [
        {
          "output_type": "stream",
          "name": "stdout",
          "text": [
            "A: \n"
          ]
        },
        {
          "output_type": "display_data",
          "data": {
            "text/plain": [
              "array([[1, 2],\n",
              "       [3, 4],\n",
              "       [5, 6]])"
            ]
          },
          "metadata": {}
        },
        {
          "output_type": "stream",
          "name": "stdout",
          "text": [
            "B: \n"
          ]
        },
        {
          "output_type": "display_data",
          "data": {
            "text/plain": [
              "array([[1, 2, 3, 4],\n",
              "       [5, 6, 7, 8]])"
            ]
          },
          "metadata": {}
        },
        {
          "output_type": "stream",
          "name": "stdout",
          "text": [
            "A*B: \n"
          ]
        },
        {
          "output_type": "display_data",
          "data": {
            "text/plain": [
              "array([[11, 14, 17, 20],\n",
              "       [23, 30, 37, 44],\n",
              "       [35, 46, 57, 68]])"
            ]
          },
          "metadata": {}
        }
      ],
      "source": [
        "A = np.array( ([[1,2],[3,4],[5,6]]) )\n",
        "B = np.array( ([[1,2,3,4],[5,6,7,8]]) )\n",
        "\n",
        "print('A: ')\n",
        "display(A)\n",
        "\n",
        "print('B: ')\n",
        "display(B)\n",
        "\n",
        "print('A*B: ')\n",
        "display(np.dot(A,B)) "
      ]
    },
    {
      "cell_type": "markdown",
      "metadata": {
        "id": "h8fpwRmdUVQz"
      },
      "source": [
        "Média dos valores de uma matriz."
      ]
    },
    {
      "cell_type": "code",
      "execution_count": null,
      "metadata": {
        "id": "jXNRH5UhUVQz",
        "colab": {
          "base_uri": "https://localhost:8080/",
          "height": 225
        },
        "outputId": "a5c220c9-5781-4dfa-803d-f42bf1092334"
      },
      "outputs": [
        {
          "output_type": "stream",
          "name": "stdout",
          "text": [
            "B: \n"
          ]
        },
        {
          "output_type": "display_data",
          "data": {
            "text/plain": [
              "array([[1, 2, 3, 4],\n",
              "       [5, 6, 7, 8]])"
            ]
          },
          "metadata": {}
        },
        {
          "output_type": "stream",
          "name": "stdout",
          "text": [
            "\n",
            "Média das linhas de B: \n"
          ]
        },
        {
          "output_type": "display_data",
          "data": {
            "text/plain": [
              "array([2.5, 6.5])"
            ]
          },
          "metadata": {}
        },
        {
          "output_type": "stream",
          "name": "stdout",
          "text": [
            "\n",
            "Média das colunas de B: \n"
          ]
        },
        {
          "output_type": "display_data",
          "data": {
            "text/plain": [
              "array([3., 4., 5., 6.])"
            ]
          },
          "metadata": {}
        },
        {
          "output_type": "stream",
          "name": "stdout",
          "text": [
            "\n",
            "Média de todos os valores de B: \n"
          ]
        },
        {
          "output_type": "display_data",
          "data": {
            "text/plain": [
              "4.5"
            ]
          },
          "metadata": {}
        }
      ],
      "source": [
        "print('B: ')\n",
        "display(B)\n",
        "\n",
        "# média das linhas de B\n",
        "media1 = np.mean(B, axis = 1)\n",
        "print('\\nMédia das linhas de B: ')\n",
        "display(media1)\n",
        "\n",
        "# média das colunas de B\n",
        "media2 = np.mean(B, axis = 0)\n",
        "print('\\nMédia das colunas de B: ')\n",
        "display(media2)\n",
        "\n",
        "# média de todos os valores de B \n",
        "media3 = np.mean(B)\n",
        "print('\\nMédia de todos os valores de B: ')\n",
        "display(media3)"
      ]
    },
    {
      "cell_type": "markdown",
      "metadata": {
        "id": "XyNzlXUzUVQ0"
      },
      "source": [
        "Desvio padrão dos valores de uma matriz."
      ]
    },
    {
      "cell_type": "code",
      "execution_count": null,
      "metadata": {
        "id": "EQnB5S4nUVQ0",
        "colab": {
          "base_uri": "https://localhost:8080/",
          "height": 225
        },
        "outputId": "4122e771-848c-4683-966e-954bc62ff3c2"
      },
      "outputs": [
        {
          "output_type": "stream",
          "name": "stdout",
          "text": [
            "B: \n"
          ]
        },
        {
          "output_type": "display_data",
          "data": {
            "text/plain": [
              "array([[1, 2, 3, 4],\n",
              "       [5, 6, 7, 8]])"
            ]
          },
          "metadata": {}
        },
        {
          "output_type": "stream",
          "name": "stdout",
          "text": [
            "\n",
            "Desvio padrão das linhas de B: \n"
          ]
        },
        {
          "output_type": "display_data",
          "data": {
            "text/plain": [
              "array([1.29099445, 1.29099445])"
            ]
          },
          "metadata": {}
        },
        {
          "output_type": "stream",
          "name": "stdout",
          "text": [
            "\n",
            "Desvio padrão das colunas de B: \n"
          ]
        },
        {
          "output_type": "display_data",
          "data": {
            "text/plain": [
              "array([2.82842712, 2.82842712, 2.82842712, 2.82842712])"
            ]
          },
          "metadata": {}
        },
        {
          "output_type": "stream",
          "name": "stdout",
          "text": [
            "\n",
            "Desvio padrão de todos os valores de B: \n"
          ]
        },
        {
          "output_type": "display_data",
          "data": {
            "text/plain": [
              "2.449489742783178"
            ]
          },
          "metadata": {}
        }
      ],
      "source": [
        "print('B: ')\n",
        "display(B)\n",
        "\n",
        "# desvio padrão das linhas de B\n",
        "std1 = np.std(B, axis = 1, ddof=1)\n",
        "print('\\nDesvio padrão das linhas de B: ')\n",
        "display(std1)\n",
        "\n",
        "# desvio padrão das colunas de B\n",
        "std2 = np.std(B, axis = 0, ddof=1)\n",
        "print('\\nDesvio padrão das colunas de B: ')\n",
        "display(std2)\n",
        "\n",
        "# desvio padrão de todos os valores de B \n",
        "std3 = np.std(B, ddof=1)\n",
        "print('\\nDesvio padrão de todos os valores de B: ')\n",
        "display(std3)"
      ]
    },
    {
      "cell_type": "markdown",
      "metadata": {
        "id": "EFKS_QrFUVQ1"
      },
      "source": [
        "Outras funções para vetores e matrizes.\n",
        "* `np.min()` &rarr; valor mínimo\n",
        "* `np.max()` &rarr; valor máximo\n",
        "* `np.sort(A)` &rarr; retorna o vetor $A$ ordenado\n",
        "* `np.argsort(A)` &rarr; retorna os índices do vetor $A$ ordenado\n",
        "* `np.var()` &rarr; variância\n",
        "* `np.shape()` &rarr; dimensões da matriz\n",
        "* `np.transpose()` &rarr; transposta da matriz\n",
        "* `np.concatenate(arrays, axis=numero_do_eixo)` &rarr; concatena vetores ou matrizes\n",
        "* `vstack(A,B)` &rarr; empilha verticalmente\n",
        "* `hstack(A,B)` &rarr; empilha horizontalmente\n",
        "* `np.where(A>n)` &rarr; elementos em $A$ maiores que $n$"
      ]
    },
    {
      "cell_type": "markdown",
      "metadata": {
        "id": "-5AkIYvAUVQ2"
      },
      "source": [
        "## Exercícios\n",
        "\n",
        "**Ex. 1**. Crie duas matrizes com os nomes $ExA$ e $ExB$ preenchidas com os seguintes valores:\n",
        "\n",
        "$ExA = \\begin{bmatrix}\n",
        "    12 & 9 & 4 & 1 \\\\\n",
        "    11 & 5 & 8 & 1 \\\\\n",
        "    1 & 2 & 3 & 1 \\\\\n",
        "  \\end{bmatrix}\n",
        "$, \n",
        "$\n",
        "ExB = \\begin{bmatrix}\n",
        "    1 & 5 \\\\\n",
        "    1 & 7 \\\\\n",
        "    1 & 9 \\\\\n",
        "    1 & 1 \\\\\n",
        "  \\end{bmatrix}\n",
        "$. Após isso, imprima as duas matrizes."
      ]
    },
    {
      "cell_type": "code",
      "execution_count": null,
      "metadata": {
        "id": "FI7QkkHHUVQ3",
        "colab": {
          "base_uri": "https://localhost:8080/",
          "height": 208
        },
        "outputId": "280dad46-7159-4c7d-fc76-f4d36e68c087"
      },
      "outputs": [
        {
          "output_type": "stream",
          "name": "stdout",
          "text": [
            "\n",
            "Matriz ExA:\n"
          ]
        },
        {
          "output_type": "display_data",
          "data": {
            "text/plain": [
              "array([[12,  9,  4,  1],\n",
              "       [11,  5,  8,  1],\n",
              "       [ 1,  2,  3,  1]])"
            ]
          },
          "metadata": {}
        },
        {
          "output_type": "stream",
          "name": "stdout",
          "text": [
            "\n",
            "MatrizExB\n"
          ]
        },
        {
          "output_type": "display_data",
          "data": {
            "text/plain": [
              "array([[1, 5],\n",
              "       [1, 7],\n",
              "       [1, 9],\n",
              "       [1, 1]])"
            ]
          },
          "metadata": {}
        }
      ],
      "source": [
        "################# ESCREVA SEU CÓDIGO AQUI  ###############################\n",
        "ExA = np.array([[12,9,4,1],[11,5,8,1],[1,2,3,1]])\n",
        "print('\\nMatriz ExA:')\n",
        "display(ExA)\n",
        "\n",
        "ExB = np.array([[1,5],[1,7],[1,9],[1,1]])\n",
        "print('\\nMatrizExB')\n",
        "display(ExB)\n",
        "\n",
        "##########################################################################"
      ]
    },
    {
      "cell_type": "markdown",
      "metadata": {
        "id": "QCsUKJbQUVQ4"
      },
      "source": [
        "**Ex. 2**. Crie uma matriz $ExC$ usando a seguinte operação: $ExC = ExA \\cdot ExB$. Depois, imprima $ExC$. "
      ]
    },
    {
      "cell_type": "code",
      "execution_count": null,
      "metadata": {
        "id": "nZLL26ZKUVQ4",
        "colab": {
          "base_uri": "https://localhost:8080/",
          "height": 104
        },
        "outputId": "d48316b3-a37e-4327-a08c-57dc4372b321"
      },
      "outputs": [
        {
          "output_type": "stream",
          "name": "stdout",
          "text": [
            "\n",
            "MatrizExC = ExA x ExB\n"
          ]
        },
        {
          "output_type": "display_data",
          "data": {
            "text/plain": [
              "array([[ 26, 160],\n",
              "       [ 25, 163],\n",
              "       [  7,  47]])"
            ]
          },
          "metadata": {}
        }
      ],
      "source": [
        "################# ESCREVA SEU CÓDIGO AQUI  ###############################\n",
        "ExC = np.dot(ExA,ExB)\n",
        "print('\\nMatrizExC = ExA x ExB')\n",
        "display(ExC)\n",
        "\n",
        "##########################################################################"
      ]
    },
    {
      "cell_type": "markdown",
      "metadata": {
        "id": "Hfr_29GUUVQ5"
      },
      "source": [
        "**Ex. 3**. Crie uma função que retorne a média e o desvio padrão das linhas de uma matriz e a média e desvio padrão das colunas de uma matriz. Depois teste sua função com a matriz $ExC$."
      ]
    },
    {
      "cell_type": "code",
      "execution_count": null,
      "metadata": {
        "id": "iF99jCcQUVQ5",
        "colab": {
          "base_uri": "https://localhost:8080/",
          "height": 121
        },
        "outputId": "fa1024cb-6439-417b-bf2a-ef8604274e5a"
      },
      "outputs": [
        {
          "output_type": "stream",
          "name": "stdout",
          "text": [
            "\n",
            "Desvio padrão linhas ExC\n"
          ]
        },
        {
          "output_type": "display_data",
          "data": {
            "text/plain": [
              "array([94.75230868, 97.5807358 , 28.28427125])"
            ]
          },
          "metadata": {}
        },
        {
          "output_type": "stream",
          "name": "stdout",
          "text": [
            "\n",
            "Desvio padrão colunas ExC\n"
          ]
        },
        {
          "output_type": "display_data",
          "data": {
            "text/plain": [
              "array([10.69267662, 66.1236216 ])"
            ]
          },
          "metadata": {}
        }
      ],
      "source": [
        "################# ESCREVA SEU CÓDIGO AQUI  ###############################\n",
        "\n",
        "desvio_padrao_lin_ExC = np.std(ExC, axis = 1, ddof=1)\n",
        "print('\\nDesvio padrão linhas ExC')\n",
        "display(desvio_padrao_lin_ExC)\n",
        "\n",
        "desvio_padrao_col_ExC = np.std(ExC, axis = 0, ddof=1)\n",
        "print('\\nDesvio padrão colunas ExC')\n",
        "display(desvio_padrao_col_ExC)\n",
        "##########################################################################"
      ]
    },
    {
      "cell_type": "markdown",
      "metadata": {
        "id": "NjUrKL_FUVQ6"
      },
      "source": [
        "**Ex. 4**. Crie uma matriz $ExD$ com os valores das duas últimas colunas de $ExA$. Depois, calcule a média dos valores de $ExD$."
      ]
    },
    {
      "cell_type": "code",
      "execution_count": null,
      "metadata": {
        "scrolled": true,
        "id": "_En-1nDnUVQ7",
        "colab": {
          "base_uri": "https://localhost:8080/",
          "height": 69
        },
        "outputId": "d03a9d7e-b447-48c9-d427-096336450a24"
      },
      "outputs": [
        {
          "output_type": "display_data",
          "data": {
            "text/plain": [
              "array([[4, 1],\n",
              "       [8, 1],\n",
              "       [3, 1]])"
            ]
          },
          "metadata": {}
        }
      ],
      "source": [
        "################# ESCREVA SEU CÓDIGO AQUI  ###############################\n",
        "ExD =  ExA[:,-2:] \n",
        "display(ExD)\n",
        "\n",
        "##########################################################################"
      ]
    },
    {
      "cell_type": "markdown",
      "metadata": {
        "id": "4E7ZRbUCUVQ7"
      },
      "source": [
        "**Ex. 5**. Crie uma matriz $ExE$ com os valores das linhas 1 e 2 e das colunas 1 e 2 de $ExA$."
      ]
    },
    {
      "cell_type": "code",
      "execution_count": null,
      "metadata": {
        "scrolled": true,
        "id": "N1AwtPk6UVQ8",
        "colab": {
          "base_uri": "https://localhost:8080/",
          "height": 52
        },
        "outputId": "8fe07ca2-ad82-4496-c54b-5ed41ebaafbb"
      },
      "outputs": [
        {
          "output_type": "display_data",
          "data": {
            "text/plain": [
              "array([[12,  9],\n",
              "       [11,  5]])"
            ]
          },
          "metadata": {}
        }
      ],
      "source": [
        "################# ESCREVA SEU CÓDIGO AQUI  ###############################\n",
        "ExE = ExA[0:2, 0:2]\n",
        "display(ExE)\n",
        "\n",
        "##########################################################################"
      ]
    },
    {
      "cell_type": "markdown",
      "metadata": {
        "id": "KDh7NkffUVQ8"
      },
      "source": [
        "**Ex. 6**. Crie e imprima uma matriz $ExF$ com 5 linhas e 2 colunas e todos os valores iguais a 0."
      ]
    },
    {
      "cell_type": "code",
      "execution_count": null,
      "metadata": {
        "id": "EkougsTFUVQ9",
        "colab": {
          "base_uri": "https://localhost:8080/",
          "height": 104
        },
        "outputId": "248e0eb7-ca6d-4b64-8cdd-e737307d922a"
      },
      "outputs": [
        {
          "output_type": "display_data",
          "data": {
            "text/plain": [
              "array([[0., 0.],\n",
              "       [0., 0.],\n",
              "       [0., 0.],\n",
              "       [0., 0.],\n",
              "       [0., 0.]])"
            ]
          },
          "metadata": {}
        }
      ],
      "source": [
        "################# ESCREVA SEU CÓDIGO AQUI  ###############################\n",
        "ExF = np.zeros([5,2]) \n",
        "display(ExF)\n",
        "##########################################################################"
      ]
    },
    {
      "cell_type": "markdown",
      "metadata": {
        "id": "Tl8rbcOlUVQ9"
      },
      "source": [
        "**Ex. 7**. Crie e imprima uma matriz $ExG$ com 4 linhas e 3 colunas e todos os valores iguais a 1."
      ]
    },
    {
      "cell_type": "code",
      "execution_count": null,
      "metadata": {
        "id": "c11xZNDxUVQ-",
        "colab": {
          "base_uri": "https://localhost:8080/",
          "height": 86
        },
        "outputId": "ea25a413-a297-4f23-c868-389fe1802ac3"
      },
      "outputs": [
        {
          "output_type": "display_data",
          "data": {
            "text/plain": [
              "array([[1., 1., 1.],\n",
              "       [1., 1., 1.],\n",
              "       [1., 1., 1.],\n",
              "       [1., 1., 1.]])"
            ]
          },
          "metadata": {}
        }
      ],
      "source": [
        "################# ESCREVA SEU CÓDIGO AQUI  ###############################\n",
        "ExG = np.ones([4,3])\n",
        "display(ExG)\n",
        "\n",
        "##########################################################################"
      ]
    },
    {
      "cell_type": "markdown",
      "metadata": {
        "id": "L9l5-V3DUVQ-"
      },
      "source": [
        "**Ex. 8**. Crie uma função que retorne o fatorial de um número. Teste a função que você criou, calculando o fatorial de 8. \n",
        "\n",
        "Fórmula do fatorial: $n! = (1 * 2 * 3 * ... * (n-2) * (n-1) * n)$\n",
        "\n",
        "Obs: é obrigatório usar um laço `for`. \n",
        "\n",
        "Exemplos: \n",
        "* $1! = 1$\n",
        "* $2! = 1*2$\n",
        "* $3! = 1*2*3$\n",
        "* $4! = 1*2*3*4$\n",
        "* $5! = 1*2*3*4*5$"
      ]
    },
    {
      "cell_type": "code",
      "execution_count": 62,
      "metadata": {
        "id": "Jh6MwemuUVRA",
        "colab": {
          "base_uri": "https://localhost:8080/",
          "height": 236
        },
        "outputId": "34e53acb-6ff8-46de-dc5c-1ade67c9df69"
      },
      "outputs": [
        {
          "output_type": "error",
          "ename": "TypeError",
          "evalue": "ignored",
          "traceback": [
            "\u001b[0;31m---------------------------------------------------------------------------\u001b[0m",
            "\u001b[0;31mTypeError\u001b[0m                                 Traceback (most recent call last)",
            "\u001b[0;32m<ipython-input-62-fd3b66a7bebf>\u001b[0m in \u001b[0;36m<module>\u001b[0;34m\u001b[0m\n\u001b[1;32m      4\u001b[0m \u001b[0mi\u001b[0m\u001b[0;34m=\u001b[0m\u001b[0;36m1\u001b[0m\u001b[0;34m\u001b[0m\u001b[0;34m\u001b[0m\u001b[0m\n\u001b[1;32m      5\u001b[0m \u001b[0;34m\u001b[0m\u001b[0m\n\u001b[0;32m----> 6\u001b[0;31m \u001b[0mprint\u001b[0m\u001b[0;34m(\u001b[0m\u001b[0mresult\u001b[0m\u001b[0;34m)\u001b[0m\u001b[0;34m\u001b[0m\u001b[0;34m\u001b[0m\u001b[0m\n\u001b[0m\u001b[1;32m      7\u001b[0m \u001b[0;34m\u001b[0m\u001b[0m\n\u001b[1;32m      8\u001b[0m \u001b[0;31m##########################################################################\u001b[0m\u001b[0;34m\u001b[0m\u001b[0;34m\u001b[0m\u001b[0;34m\u001b[0m\u001b[0m\n",
            "\u001b[0;31mTypeError\u001b[0m: 'str' object is not callable"
          ]
        }
      ],
      "source": [
        "################# ESCREVA SEU CÓDIGO AQUI  ###############################\n",
        "result=1\n",
        "print=\"\"\n",
        "i=1\n",
        "\n",
        "print(result)\n",
        "\n",
        "##########################################################################"
      ]
    },
    {
      "cell_type": "code",
      "execution_count": null,
      "metadata": {
        "id": "miiQSQFcUVRB"
      },
      "outputs": [],
      "source": []
    }
  ],
  "metadata": {
    "kernelspec": {
      "display_name": "Python 3 (ipykernel)",
      "language": "python",
      "name": "python3"
    },
    "language_info": {
      "codemirror_mode": {
        "name": "ipython",
        "version": 3
      },
      "file_extension": ".py",
      "mimetype": "text/x-python",
      "name": "python",
      "nbconvert_exporter": "python",
      "pygments_lexer": "ipython3",
      "version": "3.8.8"
    },
    "colab": {
      "provenance": [],
      "include_colab_link": true
    }
  },
  "nbformat": 4,
  "nbformat_minor": 0
}